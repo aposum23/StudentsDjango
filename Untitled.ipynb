{
 "cells": [
  {
   "cell_type": "code",
   "execution_count": 28,
   "id": "2542f083",
   "metadata": {},
   "outputs": [
    {
     "name": "stdout",
     "output_type": "stream",
     "text": [
      "<Response [200]>\n",
      "[]\n",
      "<Response [200]>\n",
      "{\"photography\": [\"The submitted data was not a file. Check the encoding type on the form.\"]}\n"
     ]
    }
   ],
   "source": [
    "import requests as req\n",
    "import json\n",
    "import datetime\n",
    "\n",
    "\n",
    "resp = req.get('http://127.0.0.1:8000/students')\n",
    "print(resp)\n",
    "print(resp.text)\n",
    "\n",
    "resp = req.post('http://127.0.0.1:8000/students',\n",
    "               data=json.dumps({'name':'Духно Михаил Александрович', 'date':'2020-09-01', 'group':'ПИЖ-б-о-20-1', 'cours':2,\n",
    "                     'individual':0, 'photography':''}))\n",
    "print(resp)\n",
    "print(resp.text)"
   ]
  },
  {
   "cell_type": "code",
   "execution_count": 17,
   "id": "d2397ee9",
   "metadata": {},
   "outputs": [
    {
     "name": "stdout",
     "output_type": "stream",
     "text": [
      "<Response [200]>\n",
      "[]\n"
     ]
    }
   ],
   "source": [
    "resp = req.get('http://127.0.0.1:8000/sections')\n",
    "print(resp)\n",
    "print(resp.text)"
   ]
  },
  {
   "cell_type": "code",
   "execution_count": 7,
   "id": "f54c8575",
   "metadata": {},
   "outputs": [
    {
     "name": "stdout",
     "output_type": "stream",
     "text": [
      "<Response [200]>\n",
      "[]\n"
     ]
    }
   ],
   "source": [
    "resp = req.get('http://127.0.0.1:8000/student_sections')\n",
    "print(resp)\n",
    "print(resp.text)"
   ]
  },
  {
   "cell_type": "code",
   "execution_count": null,
   "id": "32a574df",
   "metadata": {},
   "outputs": [],
   "source": []
  }
 ],
 "metadata": {
  "kernelspec": {
   "display_name": "Python 3 (ipykernel)",
   "language": "python",
   "name": "python3"
  },
  "language_info": {
   "codemirror_mode": {
    "name": "ipython",
    "version": 3
   },
   "file_extension": ".py",
   "mimetype": "text/x-python",
   "name": "python",
   "nbconvert_exporter": "python",
   "pygments_lexer": "ipython3",
   "version": "3.9.7"
  }
 },
 "nbformat": 4,
 "nbformat_minor": 5
}
